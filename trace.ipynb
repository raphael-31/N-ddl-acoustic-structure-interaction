{
 "cells": [
  {
   "cell_type": "code",
   "execution_count": null,
   "metadata": {},
   "outputs": [],
   "source": [
    "%matplotlib ipympl\n",
    "import trace_3DDL as tr\n",
    "tr.figs_3(100, (0.0001, 10), (0.01, 10), (0.01, 10), (0.001, 1),\n",
    "         (0.001, 1), (1, 5), (1, 8), 1, 1, 1)"
   ]
  }
 ],
 "metadata": {
  "language_info": {
   "name": "python"
  },
  "orig_nbformat": 4
 },
 "nbformat": 4,
 "nbformat_minor": 2
}
